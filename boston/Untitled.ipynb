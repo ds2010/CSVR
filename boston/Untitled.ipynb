{
 "cells": [
  {
   "cell_type": "code",
   "execution_count": 1,
   "metadata": {},
   "outputs": [],
   "source": [
    "import sys\n",
    "sys.path.append('../functionall/')\n",
    "import pandas as pd\n",
    "import numpy as np\n",
    "import random\n",
    "import CNLS, CSVR, toolbox\n",
    "from constant import CET_ADDI, FUN_PROD, OPT_LOCAL, RTS_VRS\n",
    "from sklearn.svm import SVR\n",
    "from sklearn import preprocessing\n",
    "from sklearn.model_selection import GridSearchCV"
   ]
  },
  {
   "cell_type": "code",
   "execution_count": 2,
   "metadata": {},
   "outputs": [],
   "source": [
    "def yhat(alpha, beta, x_test):\n",
    "\n",
    "    # compute yhat for each testing observation\n",
    "    yhat = np.zeros((len(x_test),))\n",
    "    for i in range(len(x_test)):\n",
    "        yhat[i] = (alpha + np.matmul(beta, x_test[i].T)).min(axis=0)\n",
    "\n",
    "    return yhat"
   ]
  },
  {
   "cell_type": "code",
   "execution_count": 18,
   "metadata": {},
   "outputs": [],
   "source": [
    "data = pd.read_csv('Boston.csv')\n",
    "\n",
    "\n",
    "# #Remove MEDV outliers (MEDV = 50.0)\n",
    "# idx = data.loc[data['MEDV'] >= 50].index\n",
    "# data = data.drop(idx)\n",
    "data = data.head(50)\n",
    "\n",
    "x = data.loc[:, ['NOX', 'DIS', 'RM', 'PTRATIO']]\n",
    "y = data['MEDV']\n",
    "for col in ['NOX', 'DIS']:\n",
    "    x[col] = np.log1p(x[col])\n",
    "x = np.array(x)\n",
    "y = np.array(np.log1p(y))\n"
   ]
  },
  {
   "cell_type": "code",
   "execution_count": 4,
   "metadata": {},
   "outputs": [],
   "source": [
    "alpha, beta, ksia, ksib = CSVR.CSVR(y, x, epsilon=0.1, u=2)"
   ]
  },
  {
   "cell_type": "code",
   "execution_count": 5,
   "metadata": {},
   "outputs": [
    {
     "data": {
      "text/plain": [
       "array([3.05510897, 3.02395607, 3.1684474 , 3.19564049, 3.25548116,\n",
       "       3.13356355, 3.03071135, 3.04700907, 3.02601715, 3.04887025,\n",
       "       3.07769448, 3.04887014, 3.02688905, 3.03440177, 3.03440176,\n",
       "       3.03440176, 3.03440176, 3.03440174, 3.03440172, 3.03440174])"
      ]
     },
     "execution_count": 5,
     "metadata": {},
     "output_type": "execute_result"
    }
   ],
   "source": [
    "alpha"
   ]
  },
  {
   "cell_type": "code",
   "execution_count": 6,
   "metadata": {},
   "outputs": [
    {
     "data": {
      "text/plain": [
       "array([[-2.75307093e-11,  8.09449243e-02,  8.24887609e-02,\n",
       "         1.00779555e-01],\n",
       "       [ 1.59379777e-08,  9.99300410e-02,  1.30845900e-01,\n",
       "         4.22614155e-02],\n",
       "       [ 2.03450408e-08,  7.94137828e-02,  1.60129654e-07,\n",
       "         3.35849410e-02],\n",
       "       [ 6.11739858e-05,  5.56924048e-05,  6.12408347e-02,\n",
       "         5.62877425e-05],\n",
       "       [ 6.00466426e-05,  5.57026803e-05,  5.54417752e-05,\n",
       "         5.62524180e-05],\n",
       "       [ 6.40436296e-05,  5.56743254e-05,  1.30845900e-01,\n",
       "         5.63338384e-05],\n",
       "       [ 4.69643154e-10,  2.24813637e-02,  1.30845915e-01,\n",
       "         1.39189601e-01],\n",
       "       [-1.12397776e-10,  8.61432815e-03,  1.18537878e-01,\n",
       "         1.49731309e-01],\n",
       "       [ 1.23827015e-09,  2.49887675e-09,  2.05542258e-01,\n",
       "         1.08623213e-01],\n",
       "       [ 1.21082871e-10,  1.19540729e-08,  1.30845828e-01,\n",
       "         1.40483039e-01],\n",
       "       [-7.67704255e-10,  2.53094396e-09,  6.12409472e-02,\n",
       "         1.95587256e-01],\n",
       "       [ 1.19220267e-10,  1.01595382e-07,  1.30845904e-01,\n",
       "         1.40482996e-01],\n",
       "       [ 5.52492412e-10,  2.55534175e-02,  1.36217051e-01,\n",
       "         1.36220865e-01],\n",
       "       [-1.88769068e-09,  1.17802796e-01,  1.30845940e-01,\n",
       "         3.80056407e-10],\n",
       "       [-2.00004765e-09,  1.17802869e-01,  1.30845889e-01,\n",
       "        -8.99777632e-10],\n",
       "       [-7.53364154e-10,  1.17802792e-01,  1.30845964e-01,\n",
       "         2.79977902e-09],\n",
       "       [-1.31461238e-09,  1.17802826e-01,  1.30845914e-01,\n",
       "         9.06518457e-10],\n",
       "       [-1.23754697e-09,  1.17802924e-01,  1.30845876e-01,\n",
       "         2.79910311e-10],\n",
       "       [ 6.61126493e-09,  1.17802894e-01,  1.30845945e-01,\n",
       "         1.51415866e-08],\n",
       "       [ 1.65012024e-09,  1.17803043e-01,  1.30845822e-01,\n",
       "         4.86372915e-09]])"
      ]
     },
     "execution_count": 6,
     "metadata": {},
     "output_type": "execute_result"
    }
   ],
   "source": [
    "beta"
   ]
  },
  {
   "cell_type": "code",
   "execution_count": 19,
   "metadata": {},
   "outputs": [
    {
     "name": "stdout",
     "output_type": "stream",
     "text": [
      "Fold 0 \n",
      "\n",
      "Fold 1 \n",
      "\n",
      "Fold 2 \n",
      "\n",
      "Fold 3 \n",
      "\n",
      "Fold 4 \n",
      "\n"
     ]
    }
   ],
   "source": [
    "# CNLS\n",
    "kfold = 5\n",
    "error_all = []\n",
    "for k in range(kfold):\n",
    "    print(\"Fold\", k, \"\\n\")\n",
    "    i_mix = random.sample(range(len(y)), k=len(y))\n",
    "\n",
    "    # divide up i.mix into K equal size chunks\n",
    "    m = len(y) // kfold\n",
    "    i_kfold = [i_mix[i:i+m] for i in range(0, len(i_mix), m)]\n",
    "\n",
    "    i_tr = toolbox.index_tr(k, i_kfold)\n",
    "    i_val = i_kfold[k]\n",
    "\n",
    "    # training predictors, training responses\n",
    "    x_tr = x[i_tr, :]  \n",
    "    y_tr = y[i_tr]   \n",
    "\n",
    "    # validation predictors, validation responses\n",
    "    x_val = x[i_val, :]\n",
    "    y_val = y[i_val] \n",
    "\n",
    "    model = CNLS.CNLS(y_tr, x_tr, z=None, cet= CET_ADDI, fun= FUN_PROD, rts= RTS_VRS)\n",
    "    model.optimize(OPT_LOCAL)\n",
    "    alpha, beta = model.get_alpha(), model.get_beta()\n",
    "\n",
    "    error_all.append(np.mean((yhat(alpha, beta, x_val) - y_val)**2))\n",
    "\n",
    "mse = np.mean(np.array(error_all), axis=0)\n"
   ]
  },
  {
   "cell_type": "code",
   "execution_count": 20,
   "metadata": {},
   "outputs": [
    {
     "data": {
      "text/plain": [
       "0.13249620181578178"
      ]
     },
     "execution_count": 20,
     "metadata": {},
     "output_type": "execute_result"
    }
   ],
   "source": [
    "mse"
   ]
  },
  {
   "cell_type": "code",
   "execution_count": null,
   "metadata": {},
   "outputs": [],
   "source": []
  }
 ],
 "metadata": {
  "kernelspec": {
   "display_name": "Python 3",
   "language": "python",
   "name": "python3"
  },
  "language_info": {
   "codemirror_mode": {
    "name": "ipython",
    "version": 3
   },
   "file_extension": ".py",
   "mimetype": "text/x-python",
   "name": "python",
   "nbconvert_exporter": "python",
   "pygments_lexer": "ipython3",
   "version": "3.8.5"
  }
 },
 "nbformat": 4,
 "nbformat_minor": 4
}
